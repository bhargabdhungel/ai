{
 "cells": [
  {
   "cell_type": "code",
   "execution_count": 14,
   "id": "e46873f1-8f09-4059-bd92-8c83fe073ad8",
   "metadata": {},
   "outputs": [],
   "source": [
    "import torch"
   ]
  },
  {
   "cell_type": "code",
   "execution_count": 15,
   "id": "e77b43d3-2ad6-4a7b-a6ac-83f65acc8bd6",
   "metadata": {},
   "outputs": [
    {
     "data": {
      "text/plain": [
       "tensor([1., 2., 3.], dtype=torch.float64, requires_grad=True)"
      ]
     },
     "execution_count": 15,
     "metadata": {},
     "output_type": "execute_result"
    }
   ],
   "source": [
    "t = torch.tensor([1, 2, 3], dtype=torch.float64, requires_grad=True)\n",
    "t"
   ]
  },
  {
   "cell_type": "code",
   "execution_count": 16,
   "id": "d1d991e6-a683-4099-9128-d854e1723ca0",
   "metadata": {},
   "outputs": [
    {
     "name": "stdout",
     "output_type": "stream",
     "text": [
      "torch.float64\n",
      "cpu\n",
      "torch.Size([3])\n",
      "True\n"
     ]
    }
   ],
   "source": [
    "print(t.dtype)\n",
    "print(t.device)\n",
    "print(t.shape)\n",
    "print(t.requires_grad)"
   ]
  },
  {
   "cell_type": "code",
   "execution_count": 17,
   "id": "c2798ab5-34f9-47a0-a885-b1a115620ce8",
   "metadata": {},
   "outputs": [],
   "source": [
    "x = torch.tensor([1, 2, 3], dtype=torch.float64)\n",
    "y = torch.tensor([4, 7, 6], dtype=torch.float64)"
   ]
  },
  {
   "cell_type": "code",
   "execution_count": 18,
   "id": "e7e6ef13-33b2-46f2-8200-f5f2f29bff8c",
   "metadata": {},
   "outputs": [
    {
     "name": "stdout",
     "output_type": "stream",
     "text": [
      "tensor([5., 9., 9.], dtype=torch.float64)\n",
      "tensor([0.2500, 0.2857, 0.5000], dtype=torch.float64)\n",
      "tensor(3., dtype=torch.float64)\n",
      "tensor(1)\n",
      "tensor([2.0000, 2.6458, 2.4495], dtype=torch.float64)\n",
      "tensor([0.9820, 0.9991, 0.9975], dtype=torch.float64)\n",
      "tensor([6., 7., 6.], dtype=torch.float64)\n"
     ]
    }
   ],
   "source": [
    "print(x+y)\n",
    "print(x/y)\n",
    "print(x.max())\n",
    "print(y.argmax())\n",
    "print(y.sqrt())\n",
    "print(y.sigmoid())\n",
    "print(y.clamp(min=6,max=9))"
   ]
  },
  {
   "cell_type": "code",
   "execution_count": 19,
   "id": "4c917edf-34c4-4098-afc3-dd20883196c4",
   "metadata": {},
   "outputs": [
    {
     "data": {
      "text/plain": [
       "tensor([1., 2., 3.], dtype=torch.float64)"
      ]
     },
     "execution_count": 19,
     "metadata": {},
     "output_type": "execute_result"
    }
   ],
   "source": [
    "x"
   ]
  },
  {
   "cell_type": "code",
   "execution_count": 60,
   "id": "45e5ca26-e146-4072-8d10-34c1f7b98ca0",
   "metadata": {},
   "outputs": [
    {
     "name": "stdout",
     "output_type": "stream",
     "text": [
      "tensor([[ 1.,  4.,  9.],\n",
      "        [16., 25., 36.]], dtype=torch.float64)\n"
     ]
    },
    {
     "data": {
      "text/plain": [
       "tensor([[1., 1., 1.],\n",
       "        [1., 1., 1.]], dtype=torch.float64)"
      ]
     },
     "execution_count": 60,
     "metadata": {},
     "output_type": "execute_result"
    }
   ],
   "source": [
    "# _ is used to do in-place operations\n",
    "x.add_(1)\n",
    "x.sub_(1)\n",
    "x.mul_(2)\n",
    "x.div_(2)\n",
    "x.pow_(2)\n",
    "print(x)\n",
    "x.clamp_(min=0, max=1)\n",
    "x"
   ]
  },
  {
   "cell_type": "code",
   "execution_count": 61,
   "id": "a6a424f6-dae9-4041-8018-610f6f6dd696",
   "metadata": {},
   "outputs": [],
   "source": [
    "x = torch.tensor([[1, 2, 3], [4, 5, 6]], dtype=torch.float64)"
   ]
  },
  {
   "cell_type": "code",
   "execution_count": 62,
   "id": "14ed3498-01db-451d-a708-fe25e96089f4",
   "metadata": {},
   "outputs": [
    {
     "name": "stdout",
     "output_type": "stream",
     "text": [
      "tensor([[1., 2., 3.],\n",
      "        [4., 5., 6.]], dtype=torch.float64)\n",
      "tensor([[1., 2., 3., 4., 5., 6.]], dtype=torch.float64)\n",
      "tensor([[1., 2., 3.],\n",
      "        [4., 5., 6.]], dtype=torch.float64)\n",
      "tensor([[1., 2.],\n",
      "        [3., 4.],\n",
      "        [5., 6.]], dtype=torch.float64)\n"
     ]
    }
   ],
   "source": [
    "print(x)\n",
    "# view has same memory as x\n",
    "# numbers show shown according to their dim\n",
    "print(x.view(1,6))\n",
    "print(x)\n",
    "# may not have the same memory\n",
    "print(x.reshape(3,2))"
   ]
  },
  {
   "cell_type": "code",
   "execution_count": 63,
   "id": "f1bca089-9b3d-48a4-a4c0-8d0a5beb5959",
   "metadata": {},
   "outputs": [
    {
     "name": "stdout",
     "output_type": "stream",
     "text": [
      "tensor([[1., 2., 3.],\n",
      "        [4., 5., 6.]], dtype=torch.float64)\n",
      "tensor([[1., 4.],\n",
      "        [2., 5.],\n",
      "        [3., 6.]], dtype=torch.float64)\n",
      "tensor([[1., 4.],\n",
      "        [2., 5.],\n",
      "        [3., 6.]], dtype=torch.float64)\n",
      "tensor([1., 2., 3., 4., 5., 6.], dtype=torch.float64)\n"
     ]
    }
   ],
   "source": [
    "# permute basically changes the order of the dimensions\n",
    "print(x)\n",
    "p = x.permute(1,0)\n",
    "print(p)\n",
    "# transpose\n",
    "tr = x.t()\n",
    "print(tr)\n",
    "# flatten returns a 1D tensor\n",
    "print(x.flatten())"
   ]
  },
  {
   "cell_type": "code",
   "execution_count": 83,
   "id": "198dc637-08d5-4b4f-9097-a1eb55f9c9d1",
   "metadata": {},
   "outputs": [
    {
     "name": "stdout",
     "output_type": "stream",
     "text": [
      "tensor([[[1., 2., 3.]],\n",
      "\n",
      "        [[4., 5., 6.]]], dtype=torch.float64)\n"
     ]
    }
   ],
   "source": [
    "# removes all dim of size 1\n",
    "sq = x.squeeze(1)\n",
    "unsq = x.unsqueeze(-2)\n",
    "print(unsq)"
   ]
  },
  {
   "cell_type": "code",
   "execution_count": 92,
   "id": "1c6da2ed-0ab6-4874-8869-0ab0c5420c4c",
   "metadata": {},
   "outputs": [
    {
     "data": {
      "text/plain": [
       "tensor([[1., 2., 3.],\n",
       "        [4., 5., 6.]], dtype=torch.float64)"
      ]
     },
     "execution_count": 92,
     "metadata": {},
     "output_type": "execute_result"
    }
   ],
   "source": [
    "x"
   ]
  },
  {
   "cell_type": "code",
   "execution_count": 99,
   "id": "a5d54f1a-82a3-480a-a4c5-194e8680726b",
   "metadata": {},
   "outputs": [
    {
     "name": "stdout",
     "output_type": "stream",
     "text": [
      "1.0\n",
      "[1.0, 2.0, 3.0]\n",
      "[1.0, 4.0]\n",
      "[[1.0, 2.0], [4.0, 5.0]]\n",
      "[2.0, 3.0, 4.0]\n"
     ]
    }
   ],
   "source": [
    "print(x[0,0].item())\n",
    "print(x[0,:].tolist())\n",
    "print(x[:,0].tolist())\n",
    "print(x[:,0:2].tolist())\n",
    "print(x[(x > 1) & (x < 5)].tolist())"
   ]
  },
  {
   "cell_type": "code",
   "execution_count": 101,
   "id": "25f86f91-073d-4c75-adf0-a308e9dfee67",
   "metadata": {},
   "outputs": [
    {
     "name": "stdout",
     "output_type": "stream",
     "text": [
      "tensor([[1., 2.],\n",
      "        [3., 4.]], dtype=torch.float64)\n",
      "tensor([[5., 6.],\n",
      "        [7., 8.]], dtype=torch.float64)\n",
      "tensor([[1., 2.],\n",
      "        [3., 4.],\n",
      "        [5., 6.],\n",
      "        [7., 8.]], dtype=torch.float64)\n",
      "tensor([[1., 2., 5., 6.],\n",
      "        [3., 4., 7., 8.]], dtype=torch.float64)\n",
      "tensor([[[1., 2.],\n",
      "         [3., 4.]],\n",
      "\n",
      "        [[5., 6.],\n",
      "         [7., 8.]]], dtype=torch.float64)\n",
      "tensor([[[1., 2.],\n",
      "         [5., 6.]],\n",
      "\n",
      "        [[3., 4.],\n",
      "         [7., 8.]]], dtype=torch.float64)\n"
     ]
    }
   ],
   "source": [
    "x = torch.tensor([[1, 2], [3, 4]], dtype=torch.float64)\n",
    "y = torch.tensor([[5, 6], [7, 8]], dtype=torch.float64)\n",
    "print(x)\n",
    "print(y)\n",
    "print(torch.cat((x, y), dim=0))\n",
    "print(torch.cat((x, y), dim=1))\n",
    "print(torch.stack((x, y), dim=0))\n",
    "print(torch.stack((x, y), dim=1))"
   ]
  },
  {
   "cell_type": "code",
   "execution_count": 102,
   "id": "c384b2e2-0524-4990-bde3-9739b1581ebf",
   "metadata": {},
   "outputs": [
    {
     "name": "stdout",
     "output_type": "stream",
     "text": [
      "tensor([[1., 2.],\n",
      "        [3., 4.]], dtype=torch.float64)\n",
      "tensor([10., 20.], dtype=torch.float64)\n",
      "tensor([[11., 22.],\n",
      "        [13., 24.]], dtype=torch.float64)\n",
      "tensor([[ -9., -18.],\n",
      "        [ -7., -16.]], dtype=torch.float64)\n",
      "tensor([[10., 40.],\n",
      "        [30., 80.]], dtype=torch.float64)\n",
      "tensor([[0.1000, 0.1000],\n",
      "        [0.3000, 0.2000]], dtype=torch.float64)\n"
     ]
    }
   ],
   "source": [
    "x = torch.tensor([[1, 2], [3, 4]], dtype=torch.float64)\n",
    "y = torch.tensor([10, 20], dtype=torch.float64)\n",
    "print(x)\n",
    "print(y)\n",
    "print(x + y)\n",
    "print(x - y)\n",
    "print(x * y)\n",
    "print(x / y)"
   ]
  },
  {
   "cell_type": "code",
   "execution_count": null,
   "id": "4f0dffa2-e807-4eb4-9bfe-b694a8906e0d",
   "metadata": {},
   "outputs": [],
   "source": []
  }
 ],
 "metadata": {
  "kernelspec": {
   "display_name": "Python 3 (ipykernel)",
   "language": "python",
   "name": "python3"
  },
  "language_info": {
   "codemirror_mode": {
    "name": "ipython",
    "version": 3
   },
   "file_extension": ".py",
   "mimetype": "text/x-python",
   "name": "python",
   "nbconvert_exporter": "python",
   "pygments_lexer": "ipython3",
   "version": "3.11.3"
  }
 },
 "nbformat": 4,
 "nbformat_minor": 5
}
